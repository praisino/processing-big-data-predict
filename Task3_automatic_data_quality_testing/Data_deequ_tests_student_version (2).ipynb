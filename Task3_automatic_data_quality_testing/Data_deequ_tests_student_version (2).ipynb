{
  "cells": [
    {
      "attachments": {},
      "cell_type": "markdown",
      "metadata": {
        "id": "0KuyIu5Aydxj"
      },
      "source": [
        "# Processing Big Data - Deequ Analysis\n",
        "\n",
        "© Explore Data Science Academy\n",
        "\n",
        "## Honour Code\n",
        "I {**Praise**, **Taiwo**}, confirm - by submitting this document - that the solutions in this notebook are a result of my own work and that I abide by the [EDSA honour code](https://drive.google.com/file/d/1QDCjGZJ8-FmJE3bZdIQNwnJyQKPhHZBn/view?usp=sharing).\n",
        "    Non-compliance with the honour code constitutes a material breach of contract.\n",
        "\n",
        "\n",
        "## Context\n",
        "\n",
        "Having completed manual data quality checks, it should be obvious that the process can become quite cumbersome. As the Data Engineer in the team, you have researched some tools that could potentially save the team from having to do this cumbersome work. In your research, you have come a across a tool called [Deequ](https://github.com/awslabs/deequ), which is a library for measuring the data quality of large datasets.\n",
        "\n",
        "<div align=\"center\" style=\"width: 600px; font-size: 80%; text-align: center; margin: 0 auto\">\n",
        "<img src=\"https://github.com/Explore-AI/Pictures/raw/master/data_engineering/transform/predict/DataQuality.jpg\"\n",
        "     alt=\"Data Quality\"\n",
        "     style=\"float: center; padding-bottom=0.5em\"\n",
        "     width=100%/>\n",
        "     <p><em>Figure 1. Six dimensions of data quality</em></p>\n",
        "</div>\n",
        "\n",
        "You present this tool to your manager; he is quite impressed and gives you the go-ahead to use this in your implementation. You are now required to perform some data quality tests using this automated data testing tool.\n",
        " "
      ]
    },
    {
      "cell_type": "markdown",
      "metadata": {
        "id": "Of4cIDBdydxy"
      },
      "source": [
        "> ## 🚩️ Important Notice 🚩️\n",
        ">\n",
        ">To successfully run `pydeequ` without any errors, please make sure that you have an environment that is running pyspark version 3.0.\n",
        "> You are advised to **create a new conda environment** and install this specific version of pyspark to avoid any technical issues:\n",
        ">\n",
        "> `pip install pyspark==3.0`\n",
        "\n",
        "<br>\n",
        "\n",
        "## Import dependencies\n",
        "\n",
        "If you do not have `pydeequ` already installed, install it using the following command:\n",
        "- `pip install pydeequ`"
      ]
    },
    {
      "cell_type": "code",
      "execution_count": 12,
      "metadata": {
        "id": "aB9tHI27ydxy"
      },
      "outputs": [],
      "source": [
        "import pandas as pd\n",
        "import numpy as np\n",
        "import matplotlib.pyplot as plt\n",
        "import pydeequ\n",
        "from pydeequ.analyzers import *\n",
        "from pydeequ.profiles import *\n",
        "from pydeequ.suggestions import *\n",
        "from pydeequ.checks import *\n",
        "from pydeequ.verification import *\n",
        "\n",
        "from pyspark.sql import SparkSession\n",
        "from pyspark.sql import functions as F\n",
        "from pyspark.sql.types import DecimalType, DoubleType, IntegerType, DateType, NumericType, StructType, StringType, StructField"
      ]
    },
    {
      "cell_type": "code",
      "execution_count": 13,
      "metadata": {
        "id": "msVbAgRLydxz"
      },
      "outputs": [],
      "source": [
        "spark = (SparkSession\n",
        "    .builder\n",
        "    .config(\"spark.jars.packages\", pydeequ.deequ_maven_coord)\n",
        "    .config(\"spark.jars.excludes\", pydeequ.f2j_maven_coord)\n",
        "    .getOrCreate())"
      ]
    },
    {
      "cell_type": "markdown",
      "metadata": {
        "id": "s9UfTCbGydx0"
      },
      "source": [
        "## Read data into spark dataframe\n",
        "\n",
        "In this notebook, we set out to run some data quality tests, with the possiblity of running end to end on the years 1963, 1974, 1985, 1996, 2007, and 2018. \n",
        "\n",
        "> ℹ️ **Instructions** ℹ️\n",
        ">\n",
        ">1. Make use of the `Data_ingestion_student_version.ipynb` notebook to create the parquet files for the following years:\n",
        ">       - 1963\n",
        ">       - 1974\n",
        ">       - 1985\n",
        ">       - 1996\n",
        ">       - 2007\n",
        ">       - 2018\n",
        ">\n",
        ">2. Ingest the data for the for the years given above. You should only do it one year at a time.\n",
        ">3. Ingest the metadata file.\n",
        "\n",
        "\n",
        "When developing your code, it will be sufficient to focus on a single year. However, after your development is done, you will need to run this notebook for all of the given years above so that you can answer all the questions given in the Data Testing MCQ."
      ]
    },
    {
      "cell_type": "code",
      "execution_count": 15,
      "metadata": {
        "id": "knJ4wClQydx2"
      },
      "outputs": [],
      "source": [
        "#TODO: Write your code here\n",
        "# Use this variable (year) to determine which year your are focusing on\n",
        "year = 1963\n",
        "data = spark.read.parquet(f'/content/drive/MyDrive/data/Part_III/{year}')\n",
        "metadata = spark.read.csv('/content/drive/MyDrive/data/symbols_valid_meta.csv', header=True)"
      ]
    },
    {
      "cell_type": "markdown",
      "metadata": {
        "id": "ctmKZPMFydx2"
      },
      "source": [
        "## **Run tests on the dataset**\n",
        "\n",
        "## Test 1 - Null values ⛔️\n",
        "For the first test, you are required to check the data for completeness.\n",
        "\n",
        "> ℹ️ **Instructions** ℹ️\n",
        ">\n",
        ">1. Make use of the `Verification Suite` and write code to check for missing values in the data. \n",
        ">2. Display the results of your test.\n",
        ">\n",
        "> *You may use as many cells as necessary*\n"
      ]
    },
    {
      "cell_type": "code",
      "execution_count": 16,
      "metadata": {
        "colab": {
          "base_uri": "https://localhost:8080/"
        },
        "id": "Ikcxazbqydx2",
        "outputId": "6609fcae-95aa-45b1-b260-ad88cad3caf6"
      },
      "outputs": [
        {
          "name": "stdout",
          "output_type": "stream",
          "text": [
            "+-------------------+-----------+------------+--------------------+-----------------+------------------+\n",
            "|              check|check_level|check_status|          constraint|constraint_status|constraint_message|\n",
            "+-------------------+-----------+------------+--------------------+-----------------+------------------+\n",
            "|Completeness checks|      Error|     Success|CompletenessConst...|          Success|                  |\n",
            "|Completeness checks|      Error|     Success|CompletenessConst...|          Success|                  |\n",
            "|Completeness checks|      Error|     Success|CompletenessConst...|          Success|                  |\n",
            "|Completeness checks|      Error|     Success|CompletenessConst...|          Success|                  |\n",
            "|Completeness checks|      Error|     Success|CompletenessConst...|          Success|                  |\n",
            "|Completeness checks|      Error|     Success|CompletenessConst...|          Success|                  |\n",
            "|Completeness checks|      Error|     Success|CompletenessConst...|          Success|                  |\n",
            "|Completeness checks|      Error|     Success|ComplianceConstra...|          Success|                  |\n",
            "+-------------------+-----------+------------+--------------------+-----------------+------------------+\n",
            "\n"
          ]
        }
      ],
      "source": [
        "#TODO: Write your code here\n",
        "comp_test = VerificationSuite(spark) \\\n",
        "  .onData(data) \\\n",
        "  .addCheck(Check(spark_session = spark, level=CheckLevel.Error, description= 'Completeness checks') \\\n",
        "            .isComplete(\"date\") \\\n",
        "            .isComplete(\"open\") \\\n",
        "            .isComplete(\"high\") \\\n",
        "            .isComplete(\"low\") \\\n",
        "            .isComplete(\"close\") \\\n",
        "            .isComplete(\"adj_close\") \\\n",
        "            .isComplete(\"volume\") \\\n",
        "            .areComplete(df.columns)) \\\n",
        "            .run()                                         \n",
        "\n",
        "res = VerificationResult.checkResultsAsDataFrame(spark, comp_test)\n",
        "res.show()"
      ]
    },
    {
      "cell_type": "markdown",
      "metadata": {
        "id": "mWpiY9LWydx3"
      },
      "source": [
        "## Test 2 - Zero Values 🅾️\n",
        "\n",
        "For the second test, you are required to check for zero values within the dataset.\n",
        "\n",
        "> ℹ️ **Instructions** ℹ️\n",
        ">\n",
        ">1. Make use of the `Verification Suite` and write code to check for zero values within the data. \n",
        ">2. Display the results of your test.\n",
        ">\n",
        "> *You may use as many cells as necessary*"
      ]
    },
    {
      "cell_type": "code",
      "execution_count": 18,
      "metadata": {
        "colab": {
          "base_uri": "https://localhost:8080/"
        },
        "id": "itPwi0Tmydx3",
        "outputId": "e9bc1f77-70ec-4632-f45f-7d489df49328"
      },
      "outputs": [
        {
          "name": "stdout",
          "output_type": "stream",
          "text": [
            "+-------------------+-----------+------------+--------------------+-----------------+--------------------+\n",
            "|              check|check_level|check_status|          constraint|constraint_status|  constraint_message|\n",
            "+-------------------+-----------+------------+--------------------+-----------------+--------------------+\n",
            "|Completeness checks|      Error|       Error|ComplianceConstra...|          Failure|Value: 0.45019920...|\n",
            "|Completeness checks|      Error|       Error|ComplianceConstra...|          Success|                    |\n",
            "|Completeness checks|      Error|       Error|ComplianceConstra...|          Success|                    |\n",
            "|Completeness checks|      Error|       Error|ComplianceConstra...|          Success|                    |\n",
            "|Completeness checks|      Error|       Error|ComplianceConstra...|          Success|                    |\n",
            "|Completeness checks|      Error|       Error|ComplianceConstra...|          Failure|Value: 0.99940239...|\n",
            "+-------------------+-----------+------------+--------------------+-----------------+--------------------+\n",
            "\n"
          ]
        }
      ],
      "source": [
        "#TODO: Write your code here\n",
        "zero_test = VerificationSuite(spark) \\\n",
        "  .onData(data) \\\n",
        "  .addCheck(Check(spark_session = spark, level=CheckLevel.Error, description= 'zero checks') \\\n",
        "            .satisfies(\"open == 0\", \"Zero values\", lambda x: x==0) \\\n",
        "            .satisfies(\"high == 0\", \"Zero values\", lambda x: x==0) \\\n",
        "            .satisfies(\"low == 0\", \"Zero values\", lambda x: x==0) \\\n",
        "            .satisfies(\"close == 0\", \"Zero values\", lambda x: x==0) \\\n",
        "            .satisfies(\"adj_close == 0\", \"Zero values\", lambda x: x==0) \\\n",
        "            .satisfies(\"volume == 0\", \"Zero values\", lambda x: x==0)) \\\n",
        "            .run()                                         \n",
        "\n",
        "res = VerificationResult.checkResultsAsDataFrame(spark, zero_test)\n",
        "res.show()"
      ]
    },
    {
      "cell_type": "markdown",
      "metadata": {
        "id": "3xY9ZmNrydx4"
      },
      "source": [
        "## Test 3 - Negative values ➖️\n",
        "The third test requires you to check that all values in the data are positive.\n",
        "\n",
        "> ℹ️ **Instructions** ℹ️\n",
        ">\n",
        ">1. Make use of the `Verification Suite` and write code to check negative values within the dataset. \n",
        ">2. Display the results of your test.\n",
        ">\n",
        "> *You may use as many cells as necessary*"
      ]
    },
    {
      "cell_type": "code",
      "execution_count": 19,
      "metadata": {
        "colab": {
          "base_uri": "https://localhost:8080/"
        },
        "id": "N5Rw4457ydx5",
        "outputId": "16516e56-4c93-47a9-889d-5dfbe671034f"
      },
      "outputs": [
        {
          "name": "stdout",
          "output_type": "stream",
          "text": [
            "+---------------+-----------+------------+--------------------+-----------------+------------------+\n",
            "|          check|check_level|check_status|          constraint|constraint_status|constraint_message|\n",
            "+---------------+-----------+------------+--------------------+-----------------+------------------+\n",
            "|negative checks|      Error|     Success|ComplianceConstra...|          Success|                  |\n",
            "|negative checks|      Error|     Success|ComplianceConstra...|          Success|                  |\n",
            "|negative checks|      Error|     Success|ComplianceConstra...|          Success|                  |\n",
            "|negative checks|      Error|     Success|ComplianceConstra...|          Success|                  |\n",
            "|negative checks|      Error|     Success|ComplianceConstra...|          Success|                  |\n",
            "|negative checks|      Error|     Success|ComplianceConstra...|          Success|                  |\n",
            "|negative checks|      Error|     Success|ComplianceConstra...|          Success|                  |\n",
            "+---------------+-----------+------------+--------------------+-----------------+------------------+\n",
            "\n"
          ]
        }
      ],
      "source": [
        "#TODO: Write your code here\n",
        "neg_test = VerificationSuite(spark) \\\n",
        "  .onData(data) \\\n",
        "  .addCheck(Check(spark_session = spark, level=CheckLevel.Error, description= 'negative checks') \\\n",
        "            .isNonNegative(\"date\") \\\n",
        "            .isNonNegative(\"open\") \\\n",
        "            .isNonNegative(\"high\") \\\n",
        "            .isNonNegative(\"low\") \\\n",
        "            .isNonNegative(\"close\") \\\n",
        "            .isNonNegative(\"adj_close\") \\\n",
        "            .isNonNegative(\"volume\")) \\\n",
        "            .run()                                         \n",
        "\n",
        "res = VerificationResult.checkResultsAsDataFrame(spark, neg_test)\n",
        "res.show()"
      ]
    },
    {
      "cell_type": "markdown",
      "metadata": {
        "id": "ltY1SctZydx5"
      },
      "source": [
        "## Test 4 - Determine Maximum Values ⚠️\n",
        "\n",
        "For the fourth test, we want to find the maximum values in the dataset for the numerical fields. Extremum values can often be used to define an upper bound for the column values so we can define them as the threshold values. \n",
        "\n",
        "> ℹ️ **Instructions** ℹ️\n",
        ">\n",
        ">1. Make use of the `Column Profiler Runner` to generate summary statistics for all the available columns. \n",
        ">2. Extract the maximum values for all the numeric columns in the data.\n",
        ">\n",
        "> *You may use as many cells as necessary*"
      ]
    },
    {
      "cell_type": "code",
      "execution_count": 21,
      "metadata": {
        "colab": {
          "base_uri": "https://localhost:8080/"
        },
        "id": "6s15z4Spydx6",
        "outputId": "75601185-fa81-4ab4-d68f-25e76b4503ec"
      },
      "outputs": [
        {
          "name": "stdout",
          "output_type": "stream",
          "text": [
            "Maximum value for open is 303.125\n",
            "Maximum value for low is 311.875\n",
            "Maximum value for close is 313.75\n",
            "Maximum value for volume is 20692800.0\n",
            "Maximum value for adj_close is 148.7704620361328\n",
            "Maximum value for high is 315.625\n"
          ]
        }
      ],
      "source": [
        "#TODO: Write your code here\n",
        "columns = [\"open\", \"low\", \"close\", \"high\", \"adj_close\", \"volume\"]\n",
        "result = ColumnProfilerRunner(spark) \\\n",
        "    .onData(data) \\\n",
        "    .run()\n",
        "\n",
        "for column, profile in result.profiles.items():\n",
        "  if column in columns:\n",
        "    print(f'Maximum value for {column} is {profile.maximum}')\n",
        "    "
      ]
    },
    {
      "cell_type": "markdown",
      "metadata": {
        "id": "MZoPrenrydx7"
      },
      "source": [
        "## Test 5 - Stock Tickers 💹️\n",
        "\n",
        "For the fifth test, we want to determine if the stock tickers contained in our dataset are consistent. To do this, you will need to make use of use of the metadata file to check that the stock names used in the dataframe are valid. \n",
        "\n",
        "> ℹ️ **Instructions** ℹ️\n",
        ">\n",
        ">1. Make use of the `Verification Suite` and write code to determine if the stock tickers contained in the dataset appear in the metadata file.\n",
        ">2. Display the results of your test.\n",
        ">\n",
        "> *You may use as many cells as necessary*"
      ]
    },
    {
      "cell_type": "code",
      "execution_count": 27,
      "metadata": {
        "id": "6POVibyUn4SW"
      },
      "outputs": [],
      "source": [
        "metadata = metadata.toPandas()\n",
        "metadata_symbol = [i for i in metadata.Symbol]"
      ]
    },
    {
      "cell_type": "code",
      "execution_count": 28,
      "metadata": {
        "colab": {
          "base_uri": "https://localhost:8080/"
        },
        "id": "GW_UX_kGydx7",
        "outputId": "09af5cd7-1242-4aa1-e45d-94b9cd7a705c"
      },
      "outputs": [
        {
          "name": "stdout",
          "output_type": "stream",
          "text": [
            "+---------------+-----------+------------+--------------------+-----------------+------------------+\n",
            "|          check|check_level|check_status|          constraint|constraint_status|constraint_message|\n",
            "+---------------+-----------+------------+--------------------+-----------------+------------------+\n",
            "|negative checks|      Error|     Success|ComplianceConstra...|          Success|                  |\n",
            "+---------------+-----------+------------+--------------------+-----------------+------------------+\n",
            "\n"
          ]
        }
      ],
      "source": [
        "#TODO: Write your code here\n",
        "\n",
        "consistency_test = VerificationSuite(spark) \\\n",
        "  .onData(data) \\\n",
        "  .addCheck(Check(spark_session = spark, level=CheckLevel.Error, description= 'consistency checks') \\\n",
        "            .isContainedIn(\"stock\",metadata_symbol)) \\\n",
        "            .run()                                         \n",
        "\n",
        "res = VerificationResult.checkResultsAsDataFrame(spark, consistency_test)\n",
        "res.show()"
      ]
    },
    {
      "cell_type": "markdown",
      "metadata": {
        "id": "vSObk34zydx8"
      },
      "source": [
        "## Test 6 - Duplication 👥️\n",
        "Lastly, we want to determine the uniqueness of the items found in the dataframe. You need to make use of the Verification Suite to check for the validity of the stock tickers. \n",
        "\n",
        "Similar to the previous notebook - `Data_profiling_student_version.ipynb`, the first thing to check will be if the primary key values within the dataset are unique - in our case, that will be a combination of the stock name and the date. Secondly, we want to check if the entries are all unique, which is done by checking for duplicates across that whole dataset.\n",
        "\n",
        "> ℹ️ **Instructions** ℹ️\n",
        ">\n",
        ">1. Make use of the `Verification Suite` and write code to determine the uniqueness of entries contained within the dataset.\n",
        ">2. Display the results of your test.\n",
        ">\n",
        "> *You may use as many cells as necessary*\n",
        "\n"
      ]
    },
    {
      "cell_type": "code",
      "execution_count": 29,
      "metadata": {
        "colab": {
          "base_uri": "https://localhost:8080/"
        },
        "id": "5UOAUGKxydx-",
        "outputId": "f924025a-34b1-49b8-839e-fb973b0e19e5"
      },
      "outputs": [
        {
          "name": "stdout",
          "output_type": "stream",
          "text": [
            "Python Callback server started!\n",
            "+-----------------+-----------+------------+--------------------+-----------------+------------------+\n",
            "|            check|check_level|check_status|          constraint|constraint_status|constraint_message|\n",
            "+-----------------+-----------+------------+--------------------+-----------------+------------------+\n",
            "|uniqueness checks|      Error|     Success|UniquenessConstra...|          Success|                  |\n",
            "+-----------------+-----------+------------+--------------------+-----------------+------------------+\n",
            "\n"
          ]
        }
      ],
      "source": [
        "#TODO: Write your code here\n",
        "uni_test = VerificationSuite(spark) \\\n",
        "  .onData(data) \\\n",
        "  .addCheck(Check(spark_session = spark, level=CheckLevel.Error, description= 'uniqueness checks') \\\n",
        "            .hasUniqueness((\"date\",\"stock\"), lambda x: x == 1)) \\\n",
        "            .run()                                         \n",
        "\n",
        "res = VerificationResult.checkResultsAsDataFrame(spark, uni_test)\n",
        "res.show()"
      ]
    }
  ],
  "metadata": {
    "colab": {
      "collapsed_sections": [],
      "name": "Data_deequ_tests_student_version.ipynb",
      "provenance": []
    },
    "kernelspec": {
      "display_name": "pyspark-env",
      "language": "python",
      "name": "python3"
    },
    "language_info": {
      "codemirror_mode": {
        "name": "ipython",
        "version": 3
      },
      "file_extension": ".py",
      "mimetype": "text/x-python",
      "name": "python",
      "nbconvert_exporter": "python",
      "pygments_lexer": "ipython3",
      "version": "3.10.9"
    },
    "vscode": {
      "interpreter": {
        "hash": "309f98e498df52e82b0e40219a0a865a3481ca3436bbf4d44e52e31557a8b4e0"
      }
    }
  },
  "nbformat": 4,
  "nbformat_minor": 0
}
